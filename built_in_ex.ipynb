{
 "cells": [
  {
   "cell_type": "code",
   "execution_count": null,
   "id": "36e4e0fa-89cc-4a07-8612-5f414902535e",
   "metadata": {},
   "outputs": [],
   "source": [
    "# type conversion functions"
   ]
  },
  {
   "cell_type": "code",
   "execution_count": 3,
   "id": "9d294b40-1fc3-491b-91a4-1f2394985f86",
   "metadata": {},
   "outputs": [],
   "source": [
    "name=\"42\" # str to int"
   ]
  },
  {
   "cell_type": "code",
   "execution_count": 4,
   "id": "85a9f722-e92e-4aa4-8d03-ef2723b5fbcd",
   "metadata": {},
   "outputs": [
    {
     "data": {
      "text/plain": [
       "42"
      ]
     },
     "execution_count": 4,
     "metadata": {},
     "output_type": "execute_result"
    }
   ],
   "source": [
    "int(name)"
   ]
  },
  {
   "cell_type": "code",
   "execution_count": 5,
   "id": "54981387-d7c9-4a99-9a68-48f79b1edf99",
   "metadata": {},
   "outputs": [],
   "source": [
    "x=4.3 # float to integer"
   ]
  },
  {
   "cell_type": "code",
   "execution_count": 6,
   "id": "c4cb6f6b-496e-4b52-81ed-910b23ab5eaa",
   "metadata": {},
   "outputs": [
    {
     "data": {
      "text/plain": [
       "4"
      ]
     },
     "execution_count": 6,
     "metadata": {},
     "output_type": "execute_result"
    }
   ],
   "source": [
    "int(x)"
   ]
  },
  {
   "cell_type": "code",
   "execution_count": 7,
   "id": "755f39a7-2a5e-4692-8805-6159b942a1f9",
   "metadata": {},
   "outputs": [],
   "source": [
    "x=4 # int to float"
   ]
  },
  {
   "cell_type": "code",
   "execution_count": 8,
   "id": "9d137fea-f1c3-47ae-9e91-c871c8cad0b6",
   "metadata": {},
   "outputs": [
    {
     "data": {
      "text/plain": [
       "4.0"
      ]
     },
     "execution_count": 8,
     "metadata": {},
     "output_type": "execute_result"
    }
   ],
   "source": [
    "float(x)"
   ]
  },
  {
   "cell_type": "code",
   "execution_count": 9,
   "id": "4dff15d4-739f-416a-98b9-cb75d6c5be0c",
   "metadata": {},
   "outputs": [
    {
     "name": "stdout",
     "output_type": "stream",
     "text": [
      "1.0\n"
     ]
    }
   ],
   "source": [
    "print(float(True))"
   ]
  },
  {
   "cell_type": "code",
   "execution_count": 10,
   "id": "3fa71bc6-4e4d-4406-9a80-5cdb6112d325",
   "metadata": {},
   "outputs": [
    {
     "name": "stdout",
     "output_type": "stream",
     "text": [
      "0.0\n"
     ]
    }
   ],
   "source": [
    "print(float(False))"
   ]
  },
  {
   "cell_type": "code",
   "execution_count": 11,
   "id": "b514f38f-76c1-4c38-b5af-16c9437d63db",
   "metadata": {},
   "outputs": [
    {
     "data": {
      "text/plain": [
       "'4'"
      ]
     },
     "execution_count": 11,
     "metadata": {},
     "output_type": "execute_result"
    }
   ],
   "source": [
    "str(x)"
   ]
  },
  {
   "cell_type": "code",
   "execution_count": 12,
   "id": "f3454204-7983-49da-a41b-59333202caac",
   "metadata": {},
   "outputs": [
    {
     "data": {
      "text/plain": [
       "True"
      ]
     },
     "execution_count": 12,
     "metadata": {},
     "output_type": "execute_result"
    }
   ],
   "source": [
    "bool(x)"
   ]
  },
  {
   "cell_type": "code",
   "execution_count": 14,
   "id": "a6f922de-2fe1-4325-800b-76bfa66972f8",
   "metadata": {},
   "outputs": [],
   "source": [
    "x=\"hello\""
   ]
  },
  {
   "cell_type": "code",
   "execution_count": 15,
   "id": "99857e39-fbe2-4f4f-a739-fd247e19ccbb",
   "metadata": {},
   "outputs": [
    {
     "data": {
      "text/plain": [
       "['h', 'e', 'l', 'l', 'o']"
      ]
     },
     "execution_count": 15,
     "metadata": {},
     "output_type": "execute_result"
    }
   ],
   "source": [
    "list(x)"
   ]
  },
  {
   "cell_type": "code",
   "execution_count": 16,
   "id": "19ec6af4-843d-486e-8367-cf9a52947be8",
   "metadata": {},
   "outputs": [],
   "source": [
    "t=(1,2,3)"
   ]
  },
  {
   "cell_type": "code",
   "execution_count": 17,
   "id": "29007087-5175-4e15-bae8-bddc8532d785",
   "metadata": {},
   "outputs": [
    {
     "data": {
      "text/plain": [
       "[1, 2, 3]"
      ]
     },
     "execution_count": 17,
     "metadata": {},
     "output_type": "execute_result"
    }
   ],
   "source": [
    "list(t)"
   ]
  },
  {
   "cell_type": "code",
   "execution_count": 18,
   "id": "b333dcad-8ec0-4f44-a828-985a161abc1f",
   "metadata": {},
   "outputs": [],
   "source": [
    "d={\"a\":1, \"b\":2}"
   ]
  },
  {
   "cell_type": "code",
   "execution_count": 19,
   "id": "263baf23-c400-4450-9c72-343d050cb082",
   "metadata": {},
   "outputs": [
    {
     "data": {
      "text/plain": [
       "['a', 'b']"
      ]
     },
     "execution_count": 19,
     "metadata": {},
     "output_type": "execute_result"
    }
   ],
   "source": [
    "list(d)"
   ]
  },
  {
   "cell_type": "code",
   "execution_count": 20,
   "id": "69bf1b99-940d-44b2-b5da-b4ac766b5930",
   "metadata": {},
   "outputs": [],
   "source": [
    "list=[1, 2, 3]"
   ]
  },
  {
   "cell_type": "code",
   "execution_count": 21,
   "id": "aede813d-d314-4552-b0a2-9fb4317cd75d",
   "metadata": {},
   "outputs": [
    {
     "data": {
      "text/plain": [
       "(1, 2, 3)"
      ]
     },
     "execution_count": 21,
     "metadata": {},
     "output_type": "execute_result"
    }
   ],
   "source": [
    "tuple(list)"
   ]
  },
  {
   "cell_type": "code",
   "execution_count": 22,
   "id": "1539cbdf-0aa7-457e-969f-e533e0da610b",
   "metadata": {},
   "outputs": [],
   "source": [
    "s=\"hello\""
   ]
  },
  {
   "cell_type": "code",
   "execution_count": 23,
   "id": "68f373b7-f6bc-485c-9a92-c86fd8fbf3e0",
   "metadata": {},
   "outputs": [
    {
     "data": {
      "text/plain": [
       "('h', 'e', 'l', 'l', 'o')"
      ]
     },
     "execution_count": 23,
     "metadata": {},
     "output_type": "execute_result"
    }
   ],
   "source": [
    "tuple(s)"
   ]
  },
  {
   "cell_type": "code",
   "execution_count": 28,
   "id": "1a04a794-2a84-4c95-ac38-3c71821a9c85",
   "metadata": {},
   "outputs": [],
   "source": [
    "set=[1,2,3,4,1,2]"
   ]
  },
  {
   "cell_type": "code",
   "execution_count": 29,
   "id": "dcc63006-7358-4075-9159-12274a39de9d",
   "metadata": {},
   "outputs": [
    {
     "data": {
      "text/plain": [
       "(1, 2, 3, 4, 1, 2)"
      ]
     },
     "execution_count": 29,
     "metadata": {},
     "output_type": "execute_result"
    }
   ],
   "source": [
    "tuple(set)"
   ]
  },
  {
   "cell_type": "code",
   "execution_count": 30,
   "id": "62eb2843-7706-4030-bb67-85e6c657cdf4",
   "metadata": {},
   "outputs": [],
   "source": [
    "a=41"
   ]
  },
  {
   "cell_type": "code",
   "execution_count": 31,
   "id": "60617954-583b-40b4-b2a2-e8af88d1df9b",
   "metadata": {},
   "outputs": [
    {
     "data": {
      "text/plain": [
       "(41+0j)"
      ]
     },
     "execution_count": 31,
     "metadata": {},
     "output_type": "execute_result"
    }
   ],
   "source": [
    "complex(a)"
   ]
  },
  {
   "cell_type": "code",
   "execution_count": 32,
   "id": "f8ab9db9-e269-4248-92c2-bfce23c97574",
   "metadata": {},
   "outputs": [
    {
     "data": {
      "text/plain": [
       "41"
      ]
     },
     "execution_count": 32,
     "metadata": {},
     "output_type": "execute_result"
    }
   ],
   "source": [
    "abs(a)"
   ]
  },
  {
   "cell_type": "code",
   "execution_count": 33,
   "id": "69f1e4aa-f88f-4012-8687-3bb9e4f8934a",
   "metadata": {},
   "outputs": [],
   "source": [
    "b=9.11"
   ]
  },
  {
   "cell_type": "code",
   "execution_count": 34,
   "id": "af997c9f-80b6-430f-adfa-02f8c561a5cd",
   "metadata": {},
   "outputs": [
    {
     "data": {
      "text/plain": [
       "9"
      ]
     },
     "execution_count": 34,
     "metadata": {},
     "output_type": "execute_result"
    }
   ],
   "source": [
    "round(b)"
   ]
  },
  {
   "cell_type": "code",
   "execution_count": 35,
   "id": "90abd5b2-3933-4b8b-aa8c-f51010d17347",
   "metadata": {},
   "outputs": [
    {
     "data": {
      "text/plain": [
       "13"
      ]
     },
     "execution_count": 35,
     "metadata": {},
     "output_type": "execute_result"
    }
   ],
   "source": [
    "sum(set)"
   ]
  },
  {
   "cell_type": "code",
   "execution_count": 36,
   "id": "16ad552b-59b4-4bcf-ae51-379f8b8f034e",
   "metadata": {},
   "outputs": [
    {
     "data": {
      "text/plain": [
       "1"
      ]
     },
     "execution_count": 36,
     "metadata": {},
     "output_type": "execute_result"
    }
   ],
   "source": [
    "min(set)"
   ]
  },
  {
   "cell_type": "code",
   "execution_count": 37,
   "id": "2085978d-e2e3-484a-ba47-02989c90e79a",
   "metadata": {},
   "outputs": [
    {
     "data": {
      "text/plain": [
       "4"
      ]
     },
     "execution_count": 37,
     "metadata": {},
     "output_type": "execute_result"
    }
   ],
   "source": [
    "max(set)"
   ]
  },
  {
   "cell_type": "code",
   "execution_count": 42,
   "id": "afddec2c-a653-4c5c-9176-83ab6db7704e",
   "metadata": {},
   "outputs": [
    {
     "data": {
      "text/plain": [
       "8"
      ]
     },
     "execution_count": 42,
     "metadata": {},
     "output_type": "execute_result"
    }
   ],
   "source": [
    "pow(2,3)"
   ]
  },
  {
   "cell_type": "code",
   "execution_count": 45,
   "id": "b802d33e-25ca-4659-960a-98d85720b98a",
   "metadata": {},
   "outputs": [
    {
     "data": {
      "text/plain": [
       "(1, 0)"
      ]
     },
     "execution_count": 45,
     "metadata": {},
     "output_type": "execute_result"
    }
   ],
   "source": [
    "divmod(2,2)"
   ]
  },
  {
   "cell_type": "code",
   "execution_count": 47,
   "id": "30b1dd47-c59e-4eeb-8831-fe89653caa56",
   "metadata": {},
   "outputs": [
    {
     "name": "stdin",
     "output_type": "stream",
     "text": [
      "enter your name kayal\n"
     ]
    },
    {
     "data": {
      "text/plain": [
       "'kayal'"
      ]
     },
     "execution_count": 47,
     "metadata": {},
     "output_type": "execute_result"
    }
   ],
   "source": [
    "input(\"enter your name\")"
   ]
  },
  {
   "cell_type": "code",
   "execution_count": 48,
   "id": "290c33b6-c5b8-4b94-95c5-d70d66e0dd84",
   "metadata": {},
   "outputs": [
    {
     "name": "stdout",
     "output_type": "stream",
     "text": [
      "kayal\n"
     ]
    }
   ],
   "source": [
    "print(\"kayal\")"
   ]
  },
  {
   "cell_type": "code",
   "execution_count": 49,
   "id": "31a19959-54c1-4273-9345-cc402f44cd14",
   "metadata": {},
   "outputs": [
    {
     "data": {
      "text/plain": [
       "6"
      ]
     },
     "execution_count": 49,
     "metadata": {},
     "output_type": "execute_result"
    }
   ],
   "source": [
    "len(set)"
   ]
  },
  {
   "cell_type": "code",
   "execution_count": 51,
   "id": "21e893a4-9310-45c9-aa74-8df1edc39d60",
   "metadata": {},
   "outputs": [
    {
     "data": {
      "text/plain": [
       "range(0, 5)"
      ]
     },
     "execution_count": 51,
     "metadata": {},
     "output_type": "execute_result"
    }
   ],
   "source": [
    "range(5)"
   ]
  },
  {
   "cell_type": "code",
   "execution_count": 53,
   "id": "ee540451-0c66-4ae6-8868-ea35cbeee499",
   "metadata": {},
   "outputs": [],
   "source": [
    "fruits = ['apple', 'banana', 'cherry']"
   ]
  },
  {
   "cell_type": "code",
   "execution_count": 56,
   "id": "008f4bee-7148-4b61-9dbf-f6992ccb9085",
   "metadata": {},
   "outputs": [
    {
     "name": "stdout",
     "output_type": "stream",
     "text": [
      "index 0:['apple', 'banana', 'cherry']\n",
      "index 1:['apple', 'banana', 'cherry']\n",
      "index 2:['apple', 'banana', 'cherry']\n"
     ]
    }
   ],
   "source": [
    "for index, fruit in enumerate(fruits):\n",
    "    print(f\"index {index}:{fruits}\")"
   ]
  },
  {
   "cell_type": "code",
   "execution_count": 72,
   "id": "e03aebc3-2b5c-4e15-9552-95641f6cf5e5",
   "metadata": {},
   "outputs": [
    {
     "data": {
      "text/plain": [
       "[1, 1, 2, 2, 3, 4]"
      ]
     },
     "execution_count": 72,
     "metadata": {},
     "output_type": "execute_result"
    }
   ],
   "source": [
    "sorted(set)"
   ]
  },
  {
   "cell_type": "code",
   "execution_count": 81,
   "id": "3dd2b7bc-fe4b-4b03-bbbf-a18aa3d6319b",
   "metadata": {},
   "outputs": [],
   "source": [
    "s=\"kayal\""
   ]
  },
  {
   "cell_type": "code",
   "execution_count": 82,
   "id": "df57cf4a-eae4-4512-b9a2-f3ab9f3aa8c6",
   "metadata": {},
   "outputs": [
    {
     "data": {
      "text/plain": [
       "'kayal'"
      ]
     },
     "execution_count": 82,
     "metadata": {},
     "output_type": "execute_result"
    }
   ],
   "source": [
    "format(s)"
   ]
  },
  {
   "cell_type": "code",
   "execution_count": 88,
   "id": "9eb98900-39d1-47b6-b373-98c91a641297",
   "metadata": {},
   "outputs": [
    {
     "data": {
      "text/plain": [
       "str"
      ]
     },
     "execution_count": 88,
     "metadata": {},
     "output_type": "execute_result"
    }
   ],
   "source": [
    "type(s)"
   ]
  },
  {
   "cell_type": "code",
   "execution_count": 91,
   "id": "ef345bc7-12ec-4fb4-b042-7af01d79c59a",
   "metadata": {},
   "outputs": [
    {
     "data": {
      "text/plain": [
       "True"
      ]
     },
     "execution_count": 91,
     "metadata": {},
     "output_type": "execute_result"
    }
   ],
   "source": [
    "isinstance(\"kayal\", str)"
   ]
  },
  {
   "cell_type": "code",
   "execution_count": 92,
   "id": "bbefb169-17ce-41ea-a5a9-6d433ca95583",
   "metadata": {},
   "outputs": [
    {
     "data": {
      "text/plain": [
       "140704179751384"
      ]
     },
     "execution_count": 92,
     "metadata": {},
     "output_type": "execute_result"
    }
   ],
   "source": [
    "id(a)"
   ]
  },
  {
   "cell_type": "code",
   "execution_count": 93,
   "id": "3504fe3a-0827-4149-a742-bf41d9f1e9d2",
   "metadata": {},
   "outputs": [
    {
     "data": {
      "text/plain": [
       "['__add__',\n",
       " '__class__',\n",
       " '__contains__',\n",
       " '__delattr__',\n",
       " '__dir__',\n",
       " '__doc__',\n",
       " '__eq__',\n",
       " '__format__',\n",
       " '__ge__',\n",
       " '__getattribute__',\n",
       " '__getitem__',\n",
       " '__getnewargs__',\n",
       " '__getstate__',\n",
       " '__gt__',\n",
       " '__hash__',\n",
       " '__init__',\n",
       " '__init_subclass__',\n",
       " '__iter__',\n",
       " '__le__',\n",
       " '__len__',\n",
       " '__lt__',\n",
       " '__mod__',\n",
       " '__mul__',\n",
       " '__ne__',\n",
       " '__new__',\n",
       " '__reduce__',\n",
       " '__reduce_ex__',\n",
       " '__repr__',\n",
       " '__rmod__',\n",
       " '__rmul__',\n",
       " '__setattr__',\n",
       " '__sizeof__',\n",
       " '__str__',\n",
       " '__subclasshook__',\n",
       " 'capitalize',\n",
       " 'casefold',\n",
       " 'center',\n",
       " 'count',\n",
       " 'encode',\n",
       " 'endswith',\n",
       " 'expandtabs',\n",
       " 'find',\n",
       " 'format',\n",
       " 'format_map',\n",
       " 'index',\n",
       " 'isalnum',\n",
       " 'isalpha',\n",
       " 'isascii',\n",
       " 'isdecimal',\n",
       " 'isdigit',\n",
       " 'isidentifier',\n",
       " 'islower',\n",
       " 'isnumeric',\n",
       " 'isprintable',\n",
       " 'isspace',\n",
       " 'istitle',\n",
       " 'isupper',\n",
       " 'join',\n",
       " 'ljust',\n",
       " 'lower',\n",
       " 'lstrip',\n",
       " 'maketrans',\n",
       " 'partition',\n",
       " 'removeprefix',\n",
       " 'removesuffix',\n",
       " 'replace',\n",
       " 'rfind',\n",
       " 'rindex',\n",
       " 'rjust',\n",
       " 'rpartition',\n",
       " 'rsplit',\n",
       " 'rstrip',\n",
       " 'split',\n",
       " 'splitlines',\n",
       " 'startswith',\n",
       " 'strip',\n",
       " 'swapcase',\n",
       " 'title',\n",
       " 'translate',\n",
       " 'upper',\n",
       " 'zfill']"
      ]
     },
     "execution_count": 93,
     "metadata": {},
     "output_type": "execute_result"
    }
   ],
   "source": [
    "dir(s)"
   ]
  },
  {
   "cell_type": "code",
   "execution_count": 94,
   "id": "8ea6f2c6-3016-4f2a-ae45-520946c9151f",
   "metadata": {},
   "outputs": [
    {
     "name": "stdout",
     "output_type": "stream",
     "text": [
      "No Python documentation found for 'kayal'.\n",
      "Use help() to get the interactive help utility.\n",
      "Use help(str) for help on the str class.\n",
      "\n"
     ]
    }
   ],
   "source": [
    "help(s)"
   ]
  },
  {
   "cell_type": "code",
   "execution_count": 96,
   "id": "89122458-91f4-461e-be9f-e8b68c91a732",
   "metadata": {},
   "outputs": [
    {
     "data": {
      "text/plain": [
       "5"
      ]
     },
     "execution_count": 96,
     "metadata": {},
     "output_type": "execute_result"
    }
   ],
   "source": [
    "eval(\"2+3\")"
   ]
  },
  {
   "cell_type": "code",
   "execution_count": 98,
   "id": "b9b66108-c408-4ab3-8ad5-ac4304045c11",
   "metadata": {},
   "outputs": [
    {
     "data": {
      "text/plain": [
       "1723083041893246822"
      ]
     },
     "execution_count": 98,
     "metadata": {},
     "output_type": "execute_result"
    }
   ],
   "source": [
    "hash(s)"
   ]
  },
  {
   "cell_type": "code",
   "execution_count": 103,
   "id": "f80d589d-c242-4589-93c6-8e8929526b6e",
   "metadata": {},
   "outputs": [
    {
     "data": {
      "text/plain": [
       "True"
      ]
     },
     "execution_count": 103,
     "metadata": {},
     "output_type": "execute_result"
    }
   ],
   "source": [
    "any(s)"
   ]
  },
  {
   "cell_type": "code",
   "execution_count": 104,
   "id": "bbe625c8-82e2-44b8-b93d-6da162454fe3",
   "metadata": {},
   "outputs": [
    {
     "data": {
      "text/plain": [
       "True"
      ]
     },
     "execution_count": 104,
     "metadata": {},
     "output_type": "execute_result"
    }
   ],
   "source": [
    "all(set)"
   ]
  },
  {
   "cell_type": "code",
   "execution_count": 105,
   "id": "8f1358c2-f581-4f18-981d-e4d2017f68d1",
   "metadata": {},
   "outputs": [
    {
     "data": {
      "text/plain": [
       "False"
      ]
     },
     "execution_count": 105,
     "metadata": {},
     "output_type": "execute_result"
    }
   ],
   "source": [
    "callable(s)"
   ]
  },
  {
   "cell_type": "code",
   "execution_count": 110,
   "id": "bef72342-3d4e-43b6-8b47-a3747e34519a",
   "metadata": {},
   "outputs": [
    {
     "data": {
      "text/plain": [
       "slice(None, 'kayal', None)"
      ]
     },
     "execution_count": 110,
     "metadata": {},
     "output_type": "execute_result"
    }
   ],
   "source": [
    "slice(s)"
   ]
  },
  {
   "cell_type": "code",
   "execution_count": null,
   "id": "8a5d6224-f5f3-4bd7-a19b-1cc555d1393f",
   "metadata": {},
   "outputs": [],
   "source": []
  }
 ],
 "metadata": {
  "kernelspec": {
   "display_name": "Python 3 (ipykernel)",
   "language": "python",
   "name": "python3"
  },
  "language_info": {
   "codemirror_mode": {
    "name": "ipython",
    "version": 3
   },
   "file_extension": ".py",
   "mimetype": "text/x-python",
   "name": "python",
   "nbconvert_exporter": "python",
   "pygments_lexer": "ipython3",
   "version": "3.12.5"
  }
 },
 "nbformat": 4,
 "nbformat_minor": 5
}

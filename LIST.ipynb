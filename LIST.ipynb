{
 "cells": [
  {
   "cell_type": "code",
   "execution_count": null,
   "id": "b57556cc-3ae9-41bb-b341-efe80874e69a",
   "metadata": {},
   "outputs": [],
   "source": [
    "#list"
   ]
  },
  {
   "cell_type": "code",
   "execution_count": 3,
   "id": "1607399a-b18b-4d4e-b56f-fb76360b956f",
   "metadata": {},
   "outputs": [],
   "source": [
    "a=[1,\"oranges\", True]"
   ]
  },
  {
   "cell_type": "code",
   "execution_count": 4,
   "id": "94c8eb58-7f27-470b-aabe-98343f7a6df9",
   "metadata": {},
   "outputs": [
    {
     "data": {
      "text/plain": [
       "[1, 'oranges', True]"
      ]
     },
     "execution_count": 4,
     "metadata": {},
     "output_type": "execute_result"
    }
   ],
   "source": [
    "a"
   ]
  },
  {
   "cell_type": "code",
   "execution_count": 5,
   "id": "30108926-08f6-41cf-bfe3-d8f86b1553de",
   "metadata": {},
   "outputs": [],
   "source": [
    "c=\"apple\"\n",
    "d=\"oranges\"\n",
    "e=\"lemons\""
   ]
  },
  {
   "cell_type": "code",
   "execution_count": 8,
   "id": "cbce9451-0d31-40bf-8617-f0a6857385a7",
   "metadata": {},
   "outputs": [
    {
     "name": "stdout",
     "output_type": "stream",
     "text": [
      "True\n"
     ]
    }
   ],
   "source": [
    "if e==\"lemons\":\n",
    " print(True)"
   ]
  },
  {
   "cell_type": "code",
   "execution_count": 9,
   "id": "1af9e3d3-2a2a-460f-9a52-f4aaea2c85bf",
   "metadata": {},
   "outputs": [
    {
     "data": {
      "text/plain": [
       "7"
      ]
     },
     "execution_count": 9,
     "metadata": {},
     "output_type": "execute_result"
    }
   ],
   "source": [
    "len(d)"
   ]
  },
  {
   "cell_type": "code",
   "execution_count": 11,
   "id": "cb6d196e-8986-46fa-b557-ff6a6c5edaaa",
   "metadata": {},
   "outputs": [
    {
     "data": {
      "text/plain": [
       "1"
      ]
     },
     "execution_count": 11,
     "metadata": {},
     "output_type": "execute_result"
    }
   ],
   "source": [
    "a.index(\"oranges\")"
   ]
  },
  {
   "cell_type": "code",
   "execution_count": 12,
   "id": "35f84fc9-cb10-4ff8-8740-e154794ef3c3",
   "metadata": {},
   "outputs": [
    {
     "data": {
      "text/plain": [
       "0"
      ]
     },
     "execution_count": 12,
     "metadata": {},
     "output_type": "execute_result"
    }
   ],
   "source": [
    "a.index(1)"
   ]
  },
  {
   "cell_type": "code",
   "execution_count": null,
   "id": "e938730f-d1d9-40a6-94ba-ef3f2ff7daf6",
   "metadata": {},
   "outputs": [],
   "source": [
    "# sets"
   ]
  },
  {
   "cell_type": "code",
   "execution_count": 13,
   "id": "5260b413-64a1-4728-bea6-02cd03771dc7",
   "metadata": {},
   "outputs": [],
   "source": [
    "f=[1,2,3,4,5,6,5,4,3,2,1,True, False, \"apples\", \"oranges\", \"lemons\"]"
   ]
  },
  {
   "cell_type": "code",
   "execution_count": 14,
   "id": "6b18fd3b-7aa5-4f5b-bab6-01ef2e0e8b4e",
   "metadata": {},
   "outputs": [
    {
     "data": {
      "text/plain": [
       "[1, 2, 3, 4, 5, 6, 5, 4, 3, 2, 1, True, False, 'apples', 'oranges', 'lemons']"
      ]
     },
     "execution_count": 14,
     "metadata": {},
     "output_type": "execute_result"
    }
   ],
   "source": [
    "f"
   ]
  },
  {
   "cell_type": "code",
   "execution_count": 16,
   "id": "788b0e6a-6b88-41f5-958b-d815d4c60875",
   "metadata": {},
   "outputs": [
    {
     "data": {
      "text/plain": [
       "{1, 2, 3, 4, 5, 6, False, 'apples', 'lemons', 'oranges'}"
      ]
     },
     "execution_count": 16,
     "metadata": {},
     "output_type": "execute_result"
    }
   ],
   "source": [
    "set(f)"
   ]
  },
  {
   "cell_type": "code",
   "execution_count": 18,
   "id": "477ce606-7fc7-4dc0-bcbf-93be17a14ae2",
   "metadata": {},
   "outputs": [],
   "source": [
    "f.append(\"tumermic\")"
   ]
  },
  {
   "cell_type": "code",
   "execution_count": 19,
   "id": "4b3091d6-227a-4b5e-a502-d876a34aee0f",
   "metadata": {},
   "outputs": [
    {
     "data": {
      "text/plain": [
       "[1,\n",
       " 2,\n",
       " 3,\n",
       " 4,\n",
       " 5,\n",
       " 6,\n",
       " 5,\n",
       " 4,\n",
       " 3,\n",
       " 2,\n",
       " 1,\n",
       " True,\n",
       " False,\n",
       " 'apples',\n",
       " 'oranges',\n",
       " 'lemons',\n",
       " 'tumermic']"
      ]
     },
     "execution_count": 19,
     "metadata": {},
     "output_type": "execute_result"
    }
   ],
   "source": [
    "f"
   ]
  },
  {
   "cell_type": "code",
   "execution_count": 7,
   "id": "7ef29dd5-b55f-4e2c-b7a0-b195f9d0a986",
   "metadata": {},
   "outputs": [],
   "source": [
    "a.insert(3,\"map\")"
   ]
  },
  {
   "cell_type": "code",
   "execution_count": 9,
   "id": "7faf7272-c053-421f-8f12-bb3210e69f64",
   "metadata": {},
   "outputs": [
    {
     "data": {
      "text/plain": [
       "[1, 'oranges', True, 'map', 'map', 'map']"
      ]
     },
     "execution_count": 9,
     "metadata": {},
     "output_type": "execute_result"
    }
   ],
   "source": [
    "a"
   ]
  },
  {
   "cell_type": "code",
   "execution_count": 10,
   "id": "1badfb46-8a7a-4939-afe4-7bb5823b0073",
   "metadata": {},
   "outputs": [],
   "source": [
    "h=[\"gloves\",\"scissors\"]"
   ]
  },
  {
   "cell_type": "code",
   "execution_count": 11,
   "id": "371b54d2-4026-40b6-beb8-d79346b56f0f",
   "metadata": {},
   "outputs": [],
   "source": [
    "h.insert(2,\"paper\")"
   ]
  },
  {
   "cell_type": "code",
   "execution_count": 12,
   "id": "a75c6dd9-714a-4e1f-8150-c3652c715af6",
   "metadata": {},
   "outputs": [
    {
     "data": {
      "text/plain": [
       "['gloves', 'scissors', 'paper']"
      ]
     },
     "execution_count": 12,
     "metadata": {},
     "output_type": "execute_result"
    }
   ],
   "source": [
    "h"
   ]
  },
  {
   "cell_type": "code",
   "execution_count": null,
   "id": "bf798e3f-5183-4573-a79a-8863dd81db61",
   "metadata": {},
   "outputs": [],
   "source": [
    "#dictionary"
   ]
  },
  {
   "cell_type": "code",
   "execution_count": 15,
   "id": "5e8cd7fc-4a77-4d9a-be89-80d4bc50b12c",
   "metadata": {},
   "outputs": [],
   "source": [
    "dict={1:\"python\",\n",
    "      2:\"dictionary\",\n",
    "      3:\"example\"\n",
    "}"
   ]
  },
  {
   "cell_type": "code",
   "execution_count": 17,
   "id": "93acc7ca-5d25-4b73-9fcb-1655482732b3",
   "metadata": {},
   "outputs": [
    {
     "data": {
      "text/plain": [
       "'python'"
      ]
     },
     "execution_count": 17,
     "metadata": {},
     "output_type": "execute_result"
    }
   ],
   "source": [
    "dict[1]"
   ]
  },
  {
   "cell_type": "code",
   "execution_count": 22,
   "id": "28c9e5b9-4826-4bae-adeb-d2f5bf4caf6b",
   "metadata": {},
   "outputs": [
    {
     "data": {
      "text/plain": [
       "'python'"
      ]
     },
     "execution_count": 22,
     "metadata": {},
     "output_type": "execute_result"
    }
   ],
   "source": [
    "dict.get(1)"
   ]
  },
  {
   "cell_type": "code",
   "execution_count": 26,
   "id": "053caf1c-b5dc-4b2b-b82b-2d8e73441006",
   "metadata": {},
   "outputs": [],
   "source": [
    "dict.clear()"
   ]
  },
  {
   "cell_type": "code",
   "execution_count": 27,
   "id": "a8b75799-3ec2-439d-ad4c-76d7362a6b8c",
   "metadata": {},
   "outputs": [
    {
     "data": {
      "text/plain": [
       "{}"
      ]
     },
     "execution_count": 27,
     "metadata": {},
     "output_type": "execute_result"
    }
   ],
   "source": [
    "dict"
   ]
  }
 ],
 "metadata": {
  "kernelspec": {
   "display_name": "Python 3 (ipykernel)",
   "language": "python",
   "name": "python3"
  },
  "language_info": {
   "codemirror_mode": {
    "name": "ipython",
    "version": 3
   },
   "file_extension": ".py",
   "mimetype": "text/x-python",
   "name": "python",
   "nbconvert_exporter": "python",
   "pygments_lexer": "ipython3",
   "version": "3.12.5"
  }
 },
 "nbformat": 4,
 "nbformat_minor": 5
}

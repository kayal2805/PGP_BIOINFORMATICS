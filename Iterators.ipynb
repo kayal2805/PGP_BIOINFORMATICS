{
 "cells": [
  {
   "cell_type": "code",
   "execution_count": 1,
   "id": "b88482c8-15ad-450e-89c9-850a03d6535b",
   "metadata": {},
   "outputs": [],
   "source": [
    "grocery_list=[\"apples\", \"oranges\", \"guava\", \"biscuits\"]"
   ]
  },
  {
   "cell_type": "code",
   "execution_count": 2,
   "id": "a2c0b0c2-0949-4b79-8627-ea95726dc39e",
   "metadata": {},
   "outputs": [
    {
     "name": "stdout",
     "output_type": "stream",
     "text": [
      "I guess we are out of stock\n"
     ]
    }
   ],
   "source": [
    "try:\n",
    "    grocery_list.index(\"paneer\")\n",
    "except:\n",
    "    print(\"I guess we are out of stock\")"
   ]
  }
 ],
 "metadata": {
  "kernelspec": {
   "display_name": "Python 3 (ipykernel)",
   "language": "python",
   "name": "python3"
  },
  "language_info": {
   "codemirror_mode": {
    "name": "ipython",
    "version": 3
   },
   "file_extension": ".py",
   "mimetype": "text/x-python",
   "name": "python",
   "nbconvert_exporter": "python",
   "pygments_lexer": "ipython3",
   "version": "3.12.5"
  }
 },
 "nbformat": 4,
 "nbformat_minor": 5
}

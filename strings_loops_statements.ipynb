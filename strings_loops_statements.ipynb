{
 "cells": [
  {
   "cell_type": "code",
   "execution_count": 11,
   "id": "451a7df2-3760-4060-ac70-b91a83a5d900",
   "metadata": {},
   "outputs": [],
   "source": [
    "Weather=\"rainy\""
   ]
  },
  {
   "cell_type": "code",
   "execution_count": 9,
   "id": "27a1c9de-0f0f-4bea-9d2b-99ed9d8c90e0",
   "metadata": {},
   "outputs": [
    {
     "name": "stdout",
     "output_type": "stream",
     "text": [
      "Wear sunglass\n"
     ]
    }
   ],
   "source": [
    "if Weather != \"sunny\" and Weather != \"Windy\":\n",
    "    print(\"Wear sunglass\")\n",
    "elif Weather == \"rainy\":\n",
    "    print(\"take an umberalla\")\n",
    "else:\n",
    "    print(\"check the weather report\")"
   ]
  },
  {
   "cell_type": "code",
   "execution_count": 7,
   "id": "bd812ff9-c0d9-43a4-9041-4f3c7121b094",
   "metadata": {},
   "outputs": [],
   "source": [
    "current_time = \"8 pm\""
   ]
  },
  {
   "cell_type": "code",
   "execution_count": 9,
   "id": "c3353b8c-16e8-48a0-b27f-1b3b2615088c",
   "metadata": {},
   "outputs": [
    {
     "name": "stdout",
     "output_type": "stream",
     "text": [
      "Time to have dinner\n"
     ]
    }
   ],
   "source": [
    "if current_time >= \"8 pm\" :\n",
    "    print(\"Time to have dinner\")\n",
    "elif current_time <=\"8 pm\":\n",
    "    print(\"time to play\")\n",
    "else:\n",
    "    print(\"Go to sleep\")"
   ]
  },
  {
   "cell_type": "code",
   "execution_count": null,
   "id": "1186d5bd-2a3a-41cd-b904-0270632b2c56",
   "metadata": {},
   "outputs": [],
   "source": [
    "#If statement"
   ]
  },
  {
   "cell_type": "code",
   "execution_count": 12,
   "id": "1d0a162d-6331-4932-8ce9-159b7c599f43",
   "metadata": {},
   "outputs": [],
   "source": [
    "name=\"kayal\""
   ]
  },
  {
   "cell_type": "code",
   "execution_count": 13,
   "id": "593f63f1-656e-4207-9bb1-0bee34de3ee8",
   "metadata": {},
   "outputs": [
    {
     "name": "stdout",
     "output_type": "stream",
     "text": [
      "name is not equal to kayal\n"
     ]
    }
   ],
   "source": [
    "if name!= \"kayal\":\n",
    "    print(\"okay\")\n",
    "else:\n",
    "    print(\"name is not equal to kayal\")"
   ]
  },
  {
   "cell_type": "code",
   "execution_count": 16,
   "id": "909b3dc1-4e83-4a18-aacd-38bbfd4f161d",
   "metadata": {},
   "outputs": [
    {
     "name": "stdout",
     "output_type": "stream",
     "text": [
      "okay\n"
     ]
    }
   ],
   "source": [
    "if name == \"kayal\":\n",
    "    print(\"okay\")\n",
    "else:\n",
    "    print(\"name is not equal to kayal\")"
   ]
  },
  {
   "cell_type": "code",
   "execution_count": null,
   "id": "c006446e-a7f4-46e1-ba2f-7fa3b85a6553",
   "metadata": {},
   "outputs": [],
   "source": [
    "#elif"
   ]
  },
  {
   "cell_type": "code",
   "execution_count": 18,
   "id": "3310dd21-2e3a-42a5-b4a1-b001109e327f",
   "metadata": {},
   "outputs": [],
   "source": [
    "name=\"kayal\""
   ]
  },
  {
   "cell_type": "code",
   "execution_count": 23,
   "id": "c464bd42-5f93-4b42-b28e-32b4052eb439",
   "metadata": {},
   "outputs": [
    {
     "name": "stdout",
     "output_type": "stream",
     "text": [
      "not okay\n"
     ]
    }
   ],
   "source": [
    "if name!=\"kayal\":\n",
    "    print(\"okay\")\n",
    "elif name ==\"kayal\":\n",
    "    print(\"not okay\")\n",
    "else:\n",
    "    print(\"my name is kayal\")"
   ]
  },
  {
   "cell_type": "code",
   "execution_count": 60,
   "id": "b69613f9-0af4-4d69-9c78-60a12cd437f0",
   "metadata": {},
   "outputs": [],
   "source": [
    "names=[\"kayal\",\"raveena\", \"sumathi\", \"selvan\", \"kiran\"]"
   ]
  },
  {
   "cell_type": "code",
   "execution_count": 61,
   "id": "aff992bc-88ee-4b05-93a0-8c0e9fdb11ab",
   "metadata": {},
   "outputs": [
    {
     "data": {
      "text/plain": [
       "5"
      ]
     },
     "execution_count": 61,
     "metadata": {},
     "output_type": "execute_result"
    }
   ],
   "source": [
    "len(names)"
   ]
  },
  {
   "cell_type": "code",
   "execution_count": null,
   "id": "caa8ae3a-cb21-4260-b19d-5e1bc2276288",
   "metadata": {},
   "outputs": [],
   "source": [
    "#for loop"
   ]
  },
  {
   "cell_type": "code",
   "execution_count": 29,
   "id": "fff3f560-bc7e-4976-8898-4777eab466fc",
   "metadata": {},
   "outputs": [
    {
     "name": "stdout",
     "output_type": "stream",
     "text": [
      "kayal\n",
      "raveena\n",
      "sumathi\n",
      "selvan\n"
     ]
    }
   ],
   "source": [
    "for items in names:\n",
    "    print(items)"
   ]
  },
  {
   "cell_type": "code",
   "execution_count": 30,
   "id": "68438286-dfd1-456d-abb8-463ea1c00ea2",
   "metadata": {},
   "outputs": [],
   "source": [
    "numbers=[1,2,3,4,5]"
   ]
  },
  {
   "cell_type": "code",
   "execution_count": 55,
   "id": "e3724de7-5d87-4925-9bb9-dfb44386d89f",
   "metadata": {},
   "outputs": [],
   "source": [
    "sum=0"
   ]
  },
  {
   "cell_type": "code",
   "execution_count": 56,
   "id": "1c3b766f-6376-4e73-92ad-a2b7e02101ba",
   "metadata": {},
   "outputs": [],
   "source": [
    "for number in numbers:\n",
    "    sum = sum + number"
   ]
  },
  {
   "cell_type": "code",
   "execution_count": 57,
   "id": "89cd7b43-3fb9-4ecd-b994-c589dfe3768f",
   "metadata": {},
   "outputs": [
    {
     "data": {
      "text/plain": [
       "15"
      ]
     },
     "execution_count": 57,
     "metadata": {},
     "output_type": "execute_result"
    }
   ],
   "source": [
    "sum"
   ]
  },
  {
   "cell_type": "code",
   "execution_count": null,
   "id": "ffa58e0a-a8d6-4907-9f9a-1c31fe9382ef",
   "metadata": {},
   "outputs": [],
   "source": [
    "# continue, break"
   ]
  },
  {
   "cell_type": "code",
   "execution_count": 62,
   "id": "32dcebb2-33a2-482f-8f53-c839af259695",
   "metadata": {},
   "outputs": [
    {
     "name": "stdout",
     "output_type": "stream",
     "text": [
      "items are present\n",
      "items are not present\n"
     ]
    }
   ],
   "source": [
    "for items in names:\n",
    "    if items==\"kayal\":\n",
    "        print(\"items are present\")\n",
    "        continue\n",
    "    elif items==\"kiran\":\n",
    "        print(\"items are not present\")\n",
    "        break\n",
    "else:\n",
    "    print(\"absent\")"
   ]
  },
  {
   "cell_type": "code",
   "execution_count": null,
   "id": "0522a589-9e35-4e94-acd1-04b78bd6b0ad",
   "metadata": {},
   "outputs": [],
   "source": [
    "#while loop"
   ]
  },
  {
   "cell_type": "code",
   "execution_count": 63,
   "id": "c07e3253-8b9f-4aa8-b3e0-f20284947f47",
   "metadata": {},
   "outputs": [],
   "source": [
    "age=0"
   ]
  },
  {
   "cell_type": "code",
   "execution_count": 65,
   "id": "32fa6906-f5c6-4932-9b2c-55ef1696e935",
   "metadata": {},
   "outputs": [],
   "source": [
    "while age>=18:\n",
    "    if age==18:\n",
    "        print(\"go and vote your age is\"+ str(age))\n",
    "    else:\n",
    "        age + age == 1"
   ]
  },
  {
   "cell_type": "code",
   "execution_count": 66,
   "id": "b708bcd5-35f2-4944-84b3-15b06be2eddf",
   "metadata": {},
   "outputs": [
    {
     "data": {
      "text/plain": [
       "0"
      ]
     },
     "execution_count": 66,
     "metadata": {},
     "output_type": "execute_result"
    }
   ],
   "source": [
    "age"
   ]
  },
  {
   "cell_type": "code",
   "execution_count": null,
   "id": "d46d097a-6b12-45bc-bcf7-c5b67cab8805",
   "metadata": {},
   "outputs": [],
   "source": [
    "# string format"
   ]
  },
  {
   "cell_type": "code",
   "execution_count": 87,
   "id": "b91cb05f-a4eb-49ae-86d3-93583d7f8bec",
   "metadata": {},
   "outputs": [],
   "source": [
    "name=[\"kayal\", \"raveena\"]"
   ]
  },
  {
   "cell_type": "code",
   "execution_count": 93,
   "id": "d4ba6661-75f9-49b8-9a27-4ec5dbd29aa5",
   "metadata": {},
   "outputs": [],
   "source": [
    "salutation = f\"hello, {name},\\n\""
   ]
  },
  {
   "cell_type": "code",
   "execution_count": 94,
   "id": "2a1afaa3-fc54-4271-8f36-143b527adc0c",
   "metadata": {},
   "outputs": [
    {
     "data": {
      "text/plain": [
       "\"hello, ['kayal', 'raveena'],\\n\""
      ]
     },
     "execution_count": 94,
     "metadata": {},
     "output_type": "execute_result"
    }
   ],
   "source": [
    "salutation"
   ]
  },
  {
   "cell_type": "code",
   "execution_count": 83,
   "id": "cc3a9858-bb87-491a-af17-acb196771f70",
   "metadata": {},
   "outputs": [],
   "source": [
    "salutation = f\"go and vote your age is {age}\""
   ]
  },
  {
   "cell_type": "code",
   "execution_count": 84,
   "id": "cf9f13ed-e1a7-4b08-b42e-4df90b865a0a",
   "metadata": {},
   "outputs": [
    {
     "data": {
      "text/plain": [
       "'go and vote your age is 0'"
      ]
     },
     "execution_count": 84,
     "metadata": {},
     "output_type": "execute_result"
    }
   ],
   "source": [
    "salutation"
   ]
  }
 ],
 "metadata": {
  "kernelspec": {
   "display_name": "Python 3 (ipykernel)",
   "language": "python",
   "name": "python3"
  },
  "language_info": {
   "codemirror_mode": {
    "name": "ipython",
    "version": 3
   },
   "file_extension": ".py",
   "mimetype": "text/x-python",
   "name": "python",
   "nbconvert_exporter": "python",
   "pygments_lexer": "ipython3",
   "version": "3.12.5"
  }
 },
 "nbformat": 4,
 "nbformat_minor": 5
}

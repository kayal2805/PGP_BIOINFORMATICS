{
 "cells": [
  {
   "cell_type": "code",
   "execution_count": 1,
   "id": "28a3de3c-33e0-493e-b345-f2ec3e9c68af",
   "metadata": {},
   "outputs": [],
   "source": [
    "a=1"
   ]
  },
  {
   "cell_type": "code",
   "execution_count": 2,
   "id": "90972c61-12e4-4949-8e15-3b09c187caf2",
   "metadata": {},
   "outputs": [],
   "source": [
    "b=2"
   ]
  },
  {
   "cell_type": "code",
   "execution_count": 3,
   "id": "c29a8d0a-7ab5-4f2a-8bb6-45610d3bb285",
   "metadata": {},
   "outputs": [
    {
     "data": {
      "text/plain": [
       "3"
      ]
     },
     "execution_count": 3,
     "metadata": {},
     "output_type": "execute_result"
    }
   ],
   "source": [
    "a+b"
   ]
  },
  {
   "cell_type": "code",
   "execution_count": 4,
   "id": "6b2fd6cf-f99a-4cf7-b501-1b04b4610617",
   "metadata": {},
   "outputs": [
    {
     "data": {
      "text/plain": [
       "-1"
      ]
     },
     "execution_count": 4,
     "metadata": {},
     "output_type": "execute_result"
    }
   ],
   "source": [
    "a-b"
   ]
  },
  {
   "cell_type": "code",
   "execution_count": 5,
   "id": "4ffb6c1b-a63f-4de8-bbb3-ef43433d8678",
   "metadata": {},
   "outputs": [
    {
     "data": {
      "text/plain": [
       "2"
      ]
     },
     "execution_count": 5,
     "metadata": {},
     "output_type": "execute_result"
    }
   ],
   "source": [
    "a*b"
   ]
  },
  {
   "cell_type": "code",
   "execution_count": 6,
   "id": "e060f8ba-e6c2-4a23-aa5e-5a01ed352f75",
   "metadata": {},
   "outputs": [
    {
     "data": {
      "text/plain": [
       "1"
      ]
     },
     "execution_count": 6,
     "metadata": {},
     "output_type": "execute_result"
    }
   ],
   "source": [
    "a%b"
   ]
  },
  {
   "cell_type": "code",
   "execution_count": 8,
   "id": "6755b7f8-3ff0-404a-8a53-929fb1aee7d8",
   "metadata": {},
   "outputs": [
    {
     "name": "stdin",
     "output_type": "stream",
     "text": [
      " kayal\n"
     ]
    }
   ],
   "source": [
    "name=input()"
   ]
  },
  {
   "cell_type": "code",
   "execution_count": 11,
   "id": "0a3abd8b-db24-403d-9a16-bb57089e7b73",
   "metadata": {},
   "outputs": [
    {
     "name": "stdout",
     "output_type": "stream",
     "text": [
      "Hi:kayal\n"
     ]
    }
   ],
   "source": [
    "print(\"Hi:\" + name)"
   ]
  },
  {
   "cell_type": "code",
   "execution_count": 1,
   "id": "ab5849ca-4d49-4606-88d1-ae63cceb448c",
   "metadata": {},
   "outputs": [],
   "source": [
    "Items = [1,2,3,4,5]"
   ]
  },
  {
   "cell_type": "code",
   "execution_count": null,
   "id": "8a606702-069e-4cb8-b40c-01303902ec75",
   "metadata": {},
   "outputs": [],
   "source": [
    "#comparison operator"
   ]
  },
  {
   "cell_type": "code",
   "execution_count": 7,
   "id": "061c5b0d-a9c8-4687-aca8-9acea7750f80",
   "metadata": {},
   "outputs": [],
   "source": [
    "a=5"
   ]
  },
  {
   "cell_type": "code",
   "execution_count": 8,
   "id": "39caa1a6-a74e-455a-afe1-f59171b8172a",
   "metadata": {},
   "outputs": [],
   "source": [
    "b=10"
   ]
  },
  {
   "cell_type": "code",
   "execution_count": 9,
   "id": "880d827c-c6a5-4eb3-908e-cd6a725d9071",
   "metadata": {},
   "outputs": [
    {
     "data": {
      "text/plain": [
       "True"
      ]
     },
     "execution_count": 9,
     "metadata": {},
     "output_type": "execute_result"
    }
   ],
   "source": [
    "a>2"
   ]
  },
  {
   "cell_type": "code",
   "execution_count": 10,
   "id": "65c200ce-52c2-4b2c-9395-93162bd8b102",
   "metadata": {},
   "outputs": [
    {
     "data": {
      "text/plain": [
       "False"
      ]
     },
     "execution_count": 10,
     "metadata": {},
     "output_type": "execute_result"
    }
   ],
   "source": [
    "b<3"
   ]
  },
  {
   "cell_type": "code",
   "execution_count": 11,
   "id": "f145e38e-38c6-4e5a-9a0e-5e1d00d83188",
   "metadata": {},
   "outputs": [
    {
     "data": {
      "text/plain": [
       "True"
      ]
     },
     "execution_count": 11,
     "metadata": {},
     "output_type": "execute_result"
    }
   ],
   "source": [
    "a>=5"
   ]
  },
  {
   "cell_type": "code",
   "execution_count": 14,
   "id": "dcdc8fa4-52cb-4919-969c-610ab158a003",
   "metadata": {},
   "outputs": [
    {
     "data": {
      "text/plain": [
       "95"
      ]
     },
     "execution_count": 14,
     "metadata": {},
     "output_type": "execute_result"
    }
   ],
   "source": [
    "10+17*5"
   ]
  },
  {
   "cell_type": "code",
   "execution_count": 16,
   "id": "5d4d48d5-9d32-410f-b416-d1770193aadb",
   "metadata": {},
   "outputs": [
    {
     "data": {
      "text/plain": [
       "9765625"
      ]
     },
     "execution_count": 16,
     "metadata": {},
     "output_type": "execute_result"
    }
   ],
   "source": [
    "a**b"
   ]
  },
  {
   "cell_type": "code",
   "execution_count": null,
   "id": "471d32c4-357f-4434-b4b3-ba4b4de0d90e",
   "metadata": {},
   "outputs": [],
   "source": [
    "#floor divison"
   ]
  },
  {
   "cell_type": "code",
   "execution_count": 17,
   "id": "2f68e9ed-2c3a-46cb-b69b-92eae6335f7d",
   "metadata": {},
   "outputs": [
    {
     "data": {
      "text/plain": [
       "0"
      ]
     },
     "execution_count": 17,
     "metadata": {},
     "output_type": "execute_result"
    }
   ],
   "source": [
    "a//b "
   ]
  },
  {
   "cell_type": "code",
   "execution_count": 18,
   "id": "4f553fc0-d9a4-4e81-820a-4703bfe9916c",
   "metadata": {},
   "outputs": [
    {
     "data": {
      "text/plain": [
       "False"
      ]
     },
     "execution_count": 18,
     "metadata": {},
     "output_type": "execute_result"
    }
   ],
   "source": [
    "a==b"
   ]
  },
  {
   "cell_type": "code",
   "execution_count": 19,
   "id": "6f8c369f-e226-45d6-895d-2a5596a2664a",
   "metadata": {},
   "outputs": [
    {
     "data": {
      "text/plain": [
       "True"
      ]
     },
     "execution_count": 19,
     "metadata": {},
     "output_type": "execute_result"
    }
   ],
   "source": [
    "a!=b"
   ]
  },
  {
   "cell_type": "code",
   "execution_count": null,
   "id": "7acb32df-1cea-4295-a5c5-3102f72d0ca4",
   "metadata": {},
   "outputs": [],
   "source": [
    "#logical operators"
   ]
  },
  {
   "cell_type": "code",
   "execution_count": null,
   "id": "c72d59a4-cf89-4a26-8287-bc60b58d3827",
   "metadata": {},
   "outputs": [],
   "source": [
    "AND"
   ]
  },
  {
   "cell_type": "code",
   "execution_count": 20,
   "id": "03f3fcd1-0848-4f5a-b7b6-80137546a0be",
   "metadata": {},
   "outputs": [],
   "source": [
    "a=5"
   ]
  },
  {
   "cell_type": "code",
   "execution_count": 21,
   "id": "9bedd1ee-7e3a-4f16-913a-3c3c5c72499a",
   "metadata": {},
   "outputs": [],
   "source": [
    "b=20"
   ]
  },
  {
   "cell_type": "code",
   "execution_count": 24,
   "id": "8d7c00dd-b30b-49a2-ba89-d0ce1920dbd1",
   "metadata": {},
   "outputs": [],
   "source": [
    "c=-9"
   ]
  },
  {
   "cell_type": "code",
   "execution_count": 25,
   "id": "965f99af-7f17-4fb3-9f5e-4fd843dc1f73",
   "metadata": {},
   "outputs": [
    {
     "name": "stdout",
     "output_type": "stream",
     "text": [
      "The numbers are greater than 0\n",
      "Atleast one number is not greater than 0\n"
     ]
    }
   ],
   "source": [
    "if a>0 and b>0:\n",
    "    print(\"The numbers are greater than 0\")\n",
    "if a>0 and b>0 and c>0:\n",
    "    print(\"The numbers are greater than 0\")\n",
    "else:\n",
    "    print(\"Atleast one number is not greater than 0\")"
   ]
  },
  {
   "cell_type": "code",
   "execution_count": 26,
   "id": "838ff63f-c357-4b0a-8dd9-d45a1a51fd7c",
   "metadata": {},
   "outputs": [
    {
     "name": "stdout",
     "output_type": "stream",
     "text": [
      "The numbers are greater than 0\n",
      "The numbers are greater than 0\n"
     ]
    }
   ],
   "source": [
    "if a>0 or b>0:\n",
    "    print(\"The numbers are greater than 0\")\n",
    "if a>0 or b>0 or c>0:\n",
    "    print(\"The numbers are greater than 0\")\n",
    "else:\n",
    "    print(\"Atleast one number is not greater than 0\")"
   ]
  },
  {
   "cell_type": "code",
   "execution_count": 27,
   "id": "fe2ebc36-39a8-4437-bb97-f196be7716ec",
   "metadata": {},
   "outputs": [
    {
     "name": "stdout",
     "output_type": "stream",
     "text": [
      "The numbers are greater than 0\n",
      "The numbers are greater than 0\n"
     ]
    }
   ],
   "source": [
    "if a>0 or b>0:\n",
    "    print(\"The numbers are greater than 0\")\n",
    "if a>0 and b>0 or c>0:\n",
    "    print(\"The numbers are greater than 0\")\n",
    "else:\n",
    "    print(\"Atleast one number is not greater than 0\")"
   ]
  },
  {
   "cell_type": "code",
   "execution_count": 29,
   "id": "0583cd8f-3ca5-4eb7-9772-4da9c173d56c",
   "metadata": {},
   "outputs": [
    {
     "name": "stdout",
     "output_type": "stream",
     "text": [
      "false\n"
     ]
    }
   ],
   "source": [
    "if not a==5:\n",
    "    print(\" true\")\n",
    "else:\n",
    "    print(\"false\")\n"
   ]
  },
  {
   "cell_type": "code",
   "execution_count": null,
   "id": "2c8075fa-ce94-4845-ab4c-4da8ec1833d6",
   "metadata": {},
   "outputs": [],
   "source": []
  }
 ],
 "metadata": {
  "kernelspec": {
   "display_name": "Python 3 (ipykernel)",
   "language": "python",
   "name": "python3"
  },
  "language_info": {
   "codemirror_mode": {
    "name": "ipython",
    "version": 3
   },
   "file_extension": ".py",
   "mimetype": "text/x-python",
   "name": "python",
   "nbconvert_exporter": "python",
   "pygments_lexer": "ipython3",
   "version": "3.12.5"
  }
 },
 "nbformat": 4,
 "nbformat_minor": 5
}
